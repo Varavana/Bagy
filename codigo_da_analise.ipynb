{
 "cells": [
  {
   "cell_type": "markdown",
   "metadata": {},
   "source": [
    "##### Teste Técnico Bagy\n",
    "Neste documento está contida a análise do dataset fornecido pela Bagy. O objetivo desta análise é responder as seguintes perguntas:\n",
    "1. Quais as 10 lojas com maior faturamento em pedidos? Sumarize os dados dessa loja\n",
    "apresentando os seguintes campos:\n",
    "    - StoreId\n",
    "    - Volume total de itens vendidos\n",
    "    - Valor total vendido\n",
    "2. Qual ticket médio mensal dos pedidos apresentados? Qual o volume médio mensal de\n",
    "vendas (todas as lojas)?\n",
    "3. Existe alguma correlação entre o país e o volume de itens vendidos? Qual o item mais\n",
    "vendido e o menos vendido no país com maior volume de vendas?\n",
    "4. Extra - A partir dos números apresentados e o seu conhecimento prévio, apresente\n",
    "ideais/estratégias que podem ser implementadas para auxiliar nossos lojistas a aumentarem\n",
    "o volume de vendas?"
   ]
  },
  {
   "cell_type": "markdown",
   "metadata": {},
   "source": [
    "##### Carregando o dataset e criando as colunas necessárias"
   ]
  },
  {
   "cell_type": "code",
   "execution_count": 2,
   "metadata": {},
   "outputs": [],
   "source": [
    "import matplotlib.pyplot as plt\n",
    "import pandas as pd\n",
    "%matplotlib inline\n",
    "\n",
    "# para ler o arquivo corretamente é preciso levar em conta que ele está separado por ';'\n",
    "# e que o encoding adequado não é utf-8 como de costume\n",
    "df = pd.read_csv('teste_dados_ecommerce.csv', sep=';', encoding='latin-1')\n",
    "\n",
    "# criando uma coluna com o valor total de cada pedido ao multiplicar a quantidade de unidades\n",
    "# pelo valor de cada uma\n",
    "df['Total'] = df['Quantity'] * df['UnitPrice']\n",
    "\n",
    "# convertendo a coluna de data de string para TIMESTAMP\n",
    "df['InvoiceDate'] = pd.to_datetime(df['InvoiceDate'])"
   ]
  },
  {
   "cell_type": "markdown",
   "metadata": {},
   "source": [
    "##### Pergunta 1"
   ]
  },
  {
   "cell_type": "code",
   "execution_count": 3,
   "metadata": {},
   "outputs": [
    {
     "data": {
      "text/html": [
       "<div>\n",
       "<style scoped>\n",
       "    .dataframe tbody tr th:only-of-type {\n",
       "        vertical-align: middle;\n",
       "    }\n",
       "\n",
       "    .dataframe tbody tr th {\n",
       "        vertical-align: top;\n",
       "    }\n",
       "\n",
       "    .dataframe thead th {\n",
       "        text-align: right;\n",
       "    }\n",
       "</style>\n",
       "<table border=\"1\" class=\"dataframe\">\n",
       "  <thead>\n",
       "    <tr style=\"text-align: right;\">\n",
       "      <th></th>\n",
       "      <th>Quantity</th>\n",
       "      <th>Total</th>\n",
       "    </tr>\n",
       "    <tr>\n",
       "      <th>StoreId</th>\n",
       "      <th></th>\n",
       "      <th></th>\n",
       "    </tr>\n",
       "  </thead>\n",
       "  <tbody>\n",
       "    <tr>\n",
       "      <th>17</th>\n",
       "      <td>337514</td>\n",
       "      <td>659675.740</td>\n",
       "    </tr>\n",
       "    <tr>\n",
       "      <th>4</th>\n",
       "      <td>350583</td>\n",
       "      <td>607875.170</td>\n",
       "    </tr>\n",
       "    <tr>\n",
       "      <th>13</th>\n",
       "      <td>266709</td>\n",
       "      <td>525823.970</td>\n",
       "    </tr>\n",
       "    <tr>\n",
       "      <th>5</th>\n",
       "      <td>251249</td>\n",
       "      <td>505066.590</td>\n",
       "    </tr>\n",
       "    <tr>\n",
       "      <th>15</th>\n",
       "      <td>268690</td>\n",
       "      <td>504586.530</td>\n",
       "    </tr>\n",
       "    <tr>\n",
       "      <th>16</th>\n",
       "      <td>259878</td>\n",
       "      <td>501436.810</td>\n",
       "    </tr>\n",
       "    <tr>\n",
       "      <th>9</th>\n",
       "      <td>271067</td>\n",
       "      <td>494288.550</td>\n",
       "    </tr>\n",
       "    <tr>\n",
       "      <th>2</th>\n",
       "      <td>241355</td>\n",
       "      <td>493832.540</td>\n",
       "    </tr>\n",
       "    <tr>\n",
       "      <th>1</th>\n",
       "      <td>236687</td>\n",
       "      <td>488837.071</td>\n",
       "    </tr>\n",
       "    <tr>\n",
       "      <th>3</th>\n",
       "      <td>245406</td>\n",
       "      <td>488437.800</td>\n",
       "    </tr>\n",
       "  </tbody>\n",
       "</table>\n",
       "</div>"
      ],
      "text/plain": [
       "         Quantity       Total\n",
       "StoreId                      \n",
       "17         337514  659675.740\n",
       "4          350583  607875.170\n",
       "13         266709  525823.970\n",
       "5          251249  505066.590\n",
       "15         268690  504586.530\n",
       "16         259878  501436.810\n",
       "9          271067  494288.550\n",
       "2          241355  493832.540\n",
       "1          236687  488837.071\n",
       "3          245406  488437.800"
      ]
     },
     "execution_count": 3,
     "metadata": {},
     "output_type": "execute_result"
    }
   ],
   "source": [
    "# separando o dataset por id das lojas e calculando a soma das colunas 'Quantity' e 'Total'\n",
    "lojas_total = df.groupby(by=['StoreId'])[['Quantity', 'Total']].sum()\n",
    "\n",
    "# ordenando os valores e selecionando as top 10 lojas\n",
    "lojas_total.sort_values(by=['Total'], ascending=False).head(10)"
   ]
  },
  {
   "cell_type": "markdown",
   "metadata": {},
   "source": [
    "Como pode ser observado, na tabela acima temos a ID da cada loja seguido pelo número total de pedidos e o faturamento total. <br>\n",
    "Nessa tabela estao presentes apenas as _**10 lojas com maior faturamento**_, ranquedas por faturamento total. <br>\n",
    "**_A loja com maior faturamento foi a 17_**, que embora não tenha sido a que mais vendeu foi a que mais faturou."
   ]
  },
  {
   "cell_type": "code",
   "execution_count": 4,
   "metadata": {},
   "outputs": [
    {
     "data": {
      "text/plain": [
       "<AxesSubplot:xlabel='StoreId', ylabel='Total'>"
      ]
     },
     "execution_count": 4,
     "metadata": {},
     "output_type": "execute_result"
    },
    {
     "data": {
      "image/png": "[encoded data removed]",
      "text/plain": [
       "<Figure size 432x288 with 1 Axes>"
      ]
     },
     "metadata": {
      "needs_background": "light"
     },
     "output_type": "display_data"
    }
   ],
   "source": [
    "# novamente ordenando os valores e selecionando as top 10 lojas, mas gerando um grafico de barras\n",
    "lojas_total.sort_values(by=['Total'], ascending=False)['Total'].head(10).plot(kind='bar', ylabel='Total')"
   ]
  },
  {
   "cell_type": "markdown",
   "metadata": {},
   "source": [
    "##### Pergunta 2"
   ]
  },
  {
   "cell_type": "code",
   "execution_count": 5,
   "metadata": {},
   "outputs": [
    {
     "data": {
      "text/html": [
       "<div>\n",
       "<style scoped>\n",
       "    .dataframe tbody tr th:only-of-type {\n",
       "        vertical-align: middle;\n",
       "    }\n",
       "\n",
       "    .dataframe tbody tr th {\n",
       "        vertical-align: top;\n",
       "    }\n",
       "\n",
       "    .dataframe thead th {\n",
       "        text-align: right;\n",
       "    }\n",
       "</style>\n",
       "<table border=\"1\" class=\"dataframe\">\n",
       "  <thead>\n",
       "    <tr style=\"text-align: right;\">\n",
       "      <th></th>\n",
       "      <th></th>\n",
       "      <th>Quantity</th>\n",
       "      <th>Total</th>\n",
       "      <th>Average Ticket</th>\n",
       "    </tr>\n",
       "    <tr>\n",
       "      <th>InvoiceDate</th>\n",
       "      <th>InvoiceDate</th>\n",
       "      <th></th>\n",
       "      <th></th>\n",
       "      <th></th>\n",
       "    </tr>\n",
       "  </thead>\n",
       "  <tbody>\n",
       "    <tr>\n",
       "      <th>2010</th>\n",
       "      <th>12</th>\n",
       "      <td>342228</td>\n",
       "      <td>748957.020</td>\n",
       "      <td>2.188474</td>\n",
       "    </tr>\n",
       "    <tr>\n",
       "      <th rowspan=\"12\" valign=\"top\">2011</th>\n",
       "      <th>1</th>\n",
       "      <td>308966</td>\n",
       "      <td>560000.260</td>\n",
       "      <td>1.812498</td>\n",
       "    </tr>\n",
       "    <tr>\n",
       "      <th>2</th>\n",
       "      <td>277989</td>\n",
       "      <td>498062.650</td>\n",
       "      <td>1.791663</td>\n",
       "    </tr>\n",
       "    <tr>\n",
       "      <th>3</th>\n",
       "      <td>351872</td>\n",
       "      <td>683267.080</td>\n",
       "      <td>1.941806</td>\n",
       "    </tr>\n",
       "    <tr>\n",
       "      <th>4</th>\n",
       "      <td>289098</td>\n",
       "      <td>493207.121</td>\n",
       "      <td>1.706021</td>\n",
       "    </tr>\n",
       "    <tr>\n",
       "      <th>5</th>\n",
       "      <td>380391</td>\n",
       "      <td>723333.510</td>\n",
       "      <td>1.901553</td>\n",
       "    </tr>\n",
       "    <tr>\n",
       "      <th>6</th>\n",
       "      <td>341623</td>\n",
       "      <td>691123.120</td>\n",
       "      <td>2.023058</td>\n",
       "    </tr>\n",
       "    <tr>\n",
       "      <th>7</th>\n",
       "      <td>391116</td>\n",
       "      <td>681300.111</td>\n",
       "      <td>1.741939</td>\n",
       "    </tr>\n",
       "    <tr>\n",
       "      <th>8</th>\n",
       "      <td>406199</td>\n",
       "      <td>682680.510</td>\n",
       "      <td>1.680655</td>\n",
       "    </tr>\n",
       "    <tr>\n",
       "      <th>9</th>\n",
       "      <td>549817</td>\n",
       "      <td>1019687.622</td>\n",
       "      <td>1.854595</td>\n",
       "    </tr>\n",
       "    <tr>\n",
       "      <th>10</th>\n",
       "      <td>570532</td>\n",
       "      <td>1070704.670</td>\n",
       "      <td>1.876678</td>\n",
       "    </tr>\n",
       "    <tr>\n",
       "      <th>11</th>\n",
       "      <td>740286</td>\n",
       "      <td>1461756.250</td>\n",
       "      <td>1.974583</td>\n",
       "    </tr>\n",
       "    <tr>\n",
       "      <th>12</th>\n",
       "      <td>226333</td>\n",
       "      <td>433668.010</td>\n",
       "      <td>1.916062</td>\n",
       "    </tr>\n",
       "  </tbody>\n",
       "</table>\n",
       "</div>"
      ],
      "text/plain": [
       "                         Quantity        Total  Average Ticket\n",
       "InvoiceDate InvoiceDate                                       \n",
       "2010        12             342228   748957.020        2.188474\n",
       "2011        1              308966   560000.260        1.812498\n",
       "            2              277989   498062.650        1.791663\n",
       "            3              351872   683267.080        1.941806\n",
       "            4              289098   493207.121        1.706021\n",
       "            5              380391   723333.510        1.901553\n",
       "            6              341623   691123.120        2.023058\n",
       "            7              391116   681300.111        1.741939\n",
       "            8              406199   682680.510        1.680655\n",
       "            9              549817  1019687.622        1.854595\n",
       "            10             570532  1070704.670        1.876678\n",
       "            11             740286  1461756.250        1.974583\n",
       "            12             226333   433668.010        1.916062"
      ]
     },
     "execution_count": 5,
     "metadata": {},
     "output_type": "execute_result"
    }
   ],
   "source": [
    "# agrupando os dados por ano e mês\n",
    "dates = df.set_index('InvoiceDate')\n",
    "# gerando o total de pedidos e faturamento por mês\n",
    "ticket_medio = dates.groupby(by=[dates.index.year, dates.index.month])[['Quantity', 'Total']].sum()\n",
    "\n",
    "# criando uma coluna com o valor do ticket médio mensal\n",
    "ticket_medio['Average Ticket'] = ticket_medio['Total'] / ticket_medio['Quantity']\n",
    "ticket_medio"
   ]
  },
  {
   "cell_type": "markdown",
   "metadata": {},
   "source": [
    "Na tabela acima, temos a quantidade total de pedidos para cada mês do ano e o faturamento total mensal.<br>\n",
    "Os dados disponíveis compreendem o período entre dezembro de 2010 e dezembro de 2011.<br>\n",
    "Com esses valores foi possível calcular o **_ticket médio de cada mês_**, com os valores variando entre 1,7 e 2,1<br>\n",
    "dependendo do mês."
   ]
  },
  {
   "cell_type": "code",
   "execution_count": 6,
   "metadata": {},
   "outputs": [
    {
     "data": {
      "text/plain": [
       "398188.46153846156"
      ]
     },
     "execution_count": 6,
     "metadata": {},
     "output_type": "execute_result"
    }
   ],
   "source": [
    "# agrupando os dados por ano e mês\n",
    "qtd_media_vendas_mensais = dates.groupby(by=[dates.index.year, dates.index.month])\n",
    "\n",
    "# separando a coluna de quantidade, somando o total para cada mês e gerando a média\n",
    "qtd_media_vendas_mensais['Quantity'].sum().mean()"
   ]
  },
  {
   "cell_type": "code",
   "execution_count": 7,
   "metadata": {},
   "outputs": [
    {
     "data": {
      "text/plain": [
       "749826.7641538461"
      ]
     },
     "execution_count": 7,
     "metadata": {},
     "output_type": "execute_result"
    }
   ],
   "source": [
    "# agrupando os dados por ano e mês\n",
    "total_media_vendas_mensais = dates.groupby(by=[dates.index.year, dates.index.month])\n",
    "\n",
    "# separando a coluna do total, somando o total para cada mês e gerando a média\n",
    "total_media_vendas_mensais['Total'].sum().mean()"
   ]
  },
  {
   "cell_type": "markdown",
   "metadata": {},
   "source": [
    "Com base nisso, podemos ver que o **_volume médio de vendas mensal_** (considerando todas as lojas) <br>\n",
    "foi de 398.188 unidades em quantidade e $749.826,76 em faturamento."
   ]
  },
  {
   "cell_type": "markdown",
   "metadata": {},
   "source": [
    "##### Pergunta 3"
   ]
  },
  {
   "cell_type": "code",
   "execution_count": 8,
   "metadata": {},
   "outputs": [
    {
     "data": {
      "text/plain": [
       "<AxesSubplot:xlabel='Country', ylabel='Quantity'>"
      ]
     },
     "execution_count": 8,
     "metadata": {},
     "output_type": "execute_result"
    },
    {
     "data": {
      "image/png": "[encoded data removed]",
      "text/plain": [
       "<Figure size 864x288 with 1 Axes>"
      ]
     },
     "metadata": {
      "needs_background": "light"
     },
     "output_type": "display_data"
    }
   ],
   "source": [
    "# agrupando dados por paises e somando o total de unidades vendidas em cada um\n",
    "vendas_por_pais = df.groupby(by=['Country'])['Quantity'].sum()\n",
    "\n",
    "# ordenando o resultado pelo total de unidades e gerando um grafico de barras\n",
    "vendas_por_pais.sort_values(ascending=False).plot(kind='bar', figsize=(12, 4), ylabel='Quantity')"
   ]
  },
  {
   "cell_type": "markdown",
   "metadata": {},
   "source": [
    "Fica evidente que a maioria das vendas se concentra no Reino Unido, além de alguns poucos países europeus.<br>\n",
    "Como a concentração no Reino Unido é muito alta, é possível inferir que esta plataforma de vendas é muito<br>\n",
    "mais conhecida e acessada lá do que em qualquer outro lugar no mundo. Além disso, fica evidente que o pú-<br>\n",
    "blico em geral é europeu e que se existe interesse em expandir e diversificar esses clientes será preciso focar<br>\n",
    "bastante no marketing em outros países."
   ]
  },
  {
   "cell_type": "code",
   "execution_count": 9,
   "metadata": {},
   "outputs": [
    {
     "data": {
      "text/html": [
       "<div>\n",
       "<style scoped>\n",
       "    .dataframe tbody tr th:only-of-type {\n",
       "        vertical-align: middle;\n",
       "    }\n",
       "\n",
       "    .dataframe tbody tr th {\n",
       "        vertical-align: top;\n",
       "    }\n",
       "\n",
       "    .dataframe thead th {\n",
       "        text-align: right;\n",
       "    }\n",
       "</style>\n",
       "<table border=\"1\" class=\"dataframe\">\n",
       "  <thead>\n",
       "    <tr style=\"text-align: right;\">\n",
       "      <th></th>\n",
       "      <th>Quantity</th>\n",
       "    </tr>\n",
       "    <tr>\n",
       "      <th>Description</th>\n",
       "      <th></th>\n",
       "    </tr>\n",
       "  </thead>\n",
       "  <tbody>\n",
       "    <tr>\n",
       "      <th>printing smudges/thrown away</th>\n",
       "      <td>-19200</td>\n",
       "    </tr>\n",
       "    <tr>\n",
       "      <th>Unsaleable, destroyed.</th>\n",
       "      <td>-15644</td>\n",
       "    </tr>\n",
       "    <tr>\n",
       "      <th>check</th>\n",
       "      <td>-12030</td>\n",
       "    </tr>\n",
       "    <tr>\n",
       "      <th>Printing smudges/thrown away</th>\n",
       "      <td>-9058</td>\n",
       "    </tr>\n",
       "    <tr>\n",
       "      <th>Damaged</th>\n",
       "      <td>-7540</td>\n",
       "    </tr>\n",
       "    <tr>\n",
       "      <th>...</th>\n",
       "      <td>...</td>\n",
       "    </tr>\n",
       "    <tr>\n",
       "      <th>WHITE HANGING HEART T-LIGHT HOLDER</th>\n",
       "      <td>33193</td>\n",
       "    </tr>\n",
       "    <tr>\n",
       "      <th>ASSORTED COLOUR BIRD ORNAMENT</th>\n",
       "      <td>33679</td>\n",
       "    </tr>\n",
       "    <tr>\n",
       "      <th>POPCORN HOLDER</th>\n",
       "      <td>34365</td>\n",
       "    </tr>\n",
       "    <tr>\n",
       "      <th>JUMBO BAG RED RETROSPOT</th>\n",
       "      <td>43167</td>\n",
       "    </tr>\n",
       "    <tr>\n",
       "      <th>WORLD WAR 2 GLIDERS ASSTD DESIGNS</th>\n",
       "      <td>48326</td>\n",
       "    </tr>\n",
       "  </tbody>\n",
       "</table>\n",
       "<p>4202 rows × 1 columns</p>\n",
       "</div>"
      ],
      "text/plain": [
       "                                    Quantity\n",
       "Description                                 \n",
       "printing smudges/thrown away          -19200\n",
       "Unsaleable, destroyed.                -15644\n",
       "check                                 -12030\n",
       "Printing smudges/thrown away           -9058\n",
       "Damaged                                -7540\n",
       "...                                      ...\n",
       "WHITE HANGING HEART T-LIGHT HOLDER     33193\n",
       "ASSORTED COLOUR BIRD ORNAMENT          33679\n",
       "POPCORN HOLDER                         34365\n",
       "JUMBO BAG RED RETROSPOT                43167\n",
       "WORLD WAR 2 GLIDERS ASSTD DESIGNS      48326\n",
       "\n",
       "[4202 rows x 1 columns]"
      ]
     },
     "execution_count": 9,
     "metadata": {},
     "output_type": "execute_result"
    }
   ],
   "source": [
    "# agrupando os dados por pais e item vendido, depois somando o total de vendas para cada item\n",
    "mais_vendido_uk = df.groupby(by=['Country', 'Description'])[['Quantity']].sum()\n",
    "\n",
    "# selecionando o resultado do reino unido\n",
    "mais_vendido_uk.loc['United Kingdom'].sort_values('Quantity')"
   ]
  },
  {
   "cell_type": "markdown",
   "metadata": {},
   "source": [
    "A tabela acima apresenta o item **_WORLD WAR 2 GLIDERS ASSTD DESIGNS_** como o mais vendido no Reino Unido com um total de **_48.326 unidades_**.<br>\n",
    "Já o item menos 'vendido' foram itens defeituosos com erros que foram descartados, representado um total negativo de **_-19.200 unidades_**. Se descon-<br>\n",
    "isderamos itens negativos, o resultado é que existiram vários itens sem nenhuma venda registada."
   ]
  },
  {
   "cell_type": "markdown",
   "metadata": {},
   "source": [
    "##### Pergunta 4 - Extra\n",
    "- Tendo em vista a análise realizada, os lojistas que buscam aumentar suas vendas deveriam focar primariamente no mercado do Reino Unido. Isso significa<br>\n",
    "investir mais em anúncios neste país e ter sempre em mente os indicadores de mercado para este país, já que é nele onde se concentram a esmagadora<br>\n",
    "maioria dos consumidores e consequentemente das vendas.\n",
    "\n",
    "- Direcionar uma parte do investimento para outros mercados pode ser uma opção inteligente para conquistar novos espaços de menor concorrência, mas é<br>\n",
    "necessário ter cautela, uma vez que primeiro se faz útil entender o motivo da concentração num só país para a partir disso pensar em como diversificar. Um<br>\n",
    "cenário de aparente pouca concorrência pode ser enganoso, já que podem existir fatores ocultos não compreendidos nos dados em questão, como uma pla-<br>\n",
    "taforma concorrente nos outros países que concentra as vendas neste."
   ]
  }
 ],
 "metadata": {
  "interpreter": {
   "hash": "83ef6e50cc29290c96a43b2b28e951fa9950334aea30833e486848d425c5f395"
  },
  "kernelspec": {
   "display_name": "Python 3.8.12 ('base')",
   "language": "python",
   "name": "python3"
  },
  "language_info": {
   "codemirror_mode": {
    "name": "ipython",
    "version": 3
   },
   "file_extension": ".py",
   "mimetype": "text/x-python",
   "name": "python",
   "nbconvert_exporter": "python",
   "pygments_lexer": "ipython3",
   "version": "3.8.12"
  },
  "orig_nbformat": 4
 },
 "nbformat": 4,
 "nbformat_minor": 2
}
